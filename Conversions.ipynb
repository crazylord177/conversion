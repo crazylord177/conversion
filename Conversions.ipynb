{
 "cells": [
  {
   "cell_type": "code",
   "execution_count": 3,
   "id": "8bcb01fb-1e7a-4871-b6f2-4d82da5bef59",
   "metadata": {
    "tags": []
   },
   "outputs": [],
   "source": [
    "Hartree_to_eV = 27.211386245988 #from Hartree to eV\n",
    "Bohr_to_Angstrom = 0.529177249 #from bohr to angstrom"
   ]
  },
  {
   "cell_type": "code",
   "execution_count": null,
   "id": "7a68dd05-1d04-4662-91ad-b55909118fbf",
   "metadata": {},
   "outputs": [],
   "source": []
  }
 ],
 "metadata": {
  "kernelspec": {
   "display_name": "Python 3 (ipykernel)",
   "language": "python",
   "name": "python3"
  },
  "language_info": {
   "codemirror_mode": {
    "name": "ipython",
    "version": 3
   },
   "file_extension": ".py",
   "mimetype": "text/x-python",
   "name": "python",
   "nbconvert_exporter": "python",
   "pygments_lexer": "ipython3",
   "version": "3.11.8"
  }
 },
 "nbformat": 4,
 "nbformat_minor": 5
}
